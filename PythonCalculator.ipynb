{
 "cells": [
  {
   "cell_type": "code",
   "execution_count": 11,
   "metadata": {},
   "outputs": [],
   "source": [
    "import operator\n",
    "\n",
    "answer = 0\n",
    "operators = {\"+\":operator.add, \"-\":operator.sub, \"*\":operator.mul, \"/\":operator.truediv}\n",
    "\n",
    "def calculate(userInput):\n",
    "    global answer\n",
    "    userCalculation = userInput.split(\" \")\n",
    "    if userCalculation[0] == \"clear\":\n",
    "        answer = 0\n",
    "    else:\n",
    "        for calculationIndex in range(1, len(userCalculation), 2):\n",
    "            print(userCalculation)\n",
    "            val1 = int(userCalculation[calculationIndex-1])\n",
    "            print(val1)\n",
    "            val2 = int(userCalculation[calculationIndex+1])\n",
    "            print(val2)\n",
    "            op = userCalculation[calculationIndex]\n",
    "            if calculationIndex == 1:\n",
    "                answer += operators[op](val1,val2)\n",
    "            else:\n",
    "                answer = operators[op](answer,val2)\n",
    "    return answer  \n",
    "    "
   ]
  },
  {
   "cell_type": "markdown",
   "metadata": {},
   "source": [
    "Calculate is coded as a seperate function so as to make the code easier and cleaner"
   ]
  },
  {
   "cell_type": "code",
   "execution_count": null,
   "metadata": {},
   "outputs": [
    {
     "name": "stdin",
     "output_type": "stream",
     "text": [
      "Please enter your calculation with section seperated by a space.\n",
      "When ready to calculate please press enter. Example: 2 + 2 * 10 - 6\n",
      "Your previous answer will be stored. if you wish to start again at 0 please enter clear\n",
      "When you wish to exit please enter q.\n",
      " 8 * 3\n"
     ]
    },
    {
     "name": "stdout",
     "output_type": "stream",
     "text": [
      "['8', '*', '3']\n",
      "8\n",
      "3\n",
      "24\n"
     ]
    },
    {
     "name": "stdin",
     "output_type": "stream",
     "text": [
      "\n",
      " clear\n"
     ]
    },
    {
     "name": "stdout",
     "output_type": "stream",
     "text": [
      "0\n"
     ]
    },
    {
     "name": "stdin",
     "output_type": "stream",
     "text": [
      "\n",
      " 8 * 3\n"
     ]
    },
    {
     "name": "stdout",
     "output_type": "stream",
     "text": [
      "['8', '*', '3']\n",
      "8\n",
      "3\n",
      "24\n"
     ]
    },
    {
     "name": "stdin",
     "output_type": "stream",
     "text": [
      "\n",
      " 8 * 3\n"
     ]
    },
    {
     "name": "stdout",
     "output_type": "stream",
     "text": [
      "['8', '*', '3']\n",
      "8\n",
      "3\n",
      "48\n"
     ]
    }
   ],
   "source": [
    "userInput = input(\"Please enter your calculation with section seperated by a space.\\n\" +\n",
    "                  \"When ready to calculate please press enter. Example: 2 + 2 * 10 - 6\\n\" + \n",
    "                  \"Your previous answer will be stored. if you wish to start again at 0 please enter clear\\n\" + \n",
    "                  \"When you wish to exit please enter q.\\n\")\n",
    "while userInput != \"q\":\n",
    "    print(calculate(userInput))\n",
    "    userInput = input(\"\\n\")\n"
   ]
  },
  {
   "cell_type": "markdown",
   "metadata": {},
   "source": [
    "This is the code that takes in the user input and prints the answer back to the user. It also uncludes instruction on how to exit and start from 0 for ease of use."
   ]
  }
 ],
 "metadata": {
  "kernelspec": {
   "display_name": "Python 3",
   "language": "python",
   "name": "python3"
  },
  "language_info": {
   "codemirror_mode": {
    "name": "ipython",
    "version": 3
   },
   "file_extension": ".py",
   "mimetype": "text/x-python",
   "name": "python",
   "nbconvert_exporter": "python",
   "pygments_lexer": "ipython3",
   "version": "3.8.3"
  }
 },
 "nbformat": 4,
 "nbformat_minor": 4
}
